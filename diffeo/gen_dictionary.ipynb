{
 "cells": [
  {
   "cell_type": "code",
   "execution_count": 1,
   "metadata": {
    "collapsed": true
   },
   "outputs": [],
   "source": [
    "import os\n",
    "furniture = ['bedChair', 'bedTable', 'benchBed', 'chairBench', 'chairTable', 'tableBench']\n",
    "cars = ['limoToSUV','limoToSedan','limoToSmart','smartToSedan','suvToSedan','suvToSmart']"
   ]
  },
  {
   "cell_type": "code",
   "execution_count": null,
   "metadata": {
    "collapsed": false
   },
   "outputs": [],
   "source": []
  },
  {
   "cell_type": "code",
   "execution_count": 6,
   "metadata": {
    "collapsed": false
   },
   "outputs": [],
   "source": [
    "category = []\n",
    "morphnum = []\n",
    "morphline = []\n",
    "viewpoint = []\n",
    "filename = []\n",
    "\n",
    "\n",
    "for fn in os.listdir(os.path.join(os.getcwd(),'diffeo_dset','diffeo')):\n",
    "    if fn[:6]=='diffeo':\n",
    "        a = fn.split('_')\n",
    "        if a[1] in furniture:\n",
    "            category.append('furniture')\n",
    "        elif a[1] in cars:\n",
    "            category.append('car')\n",
    "        morphline.append(a[1])\n",
    "        morphnum.append(a[2])\n",
    "        viewpoint.append(a[3].split('.')[0])\n",
    "        filename.append(fn)\n",
    "        endpoint.append(0)"
   ]
  },
  {
   "cell_type": "code",
   "execution_count": 7,
   "metadata": {
    "collapsed": false
   },
   "outputs": [],
   "source": [
    "meta = []\n",
    "for i in range(0,len(category)):\n",
    "    keys = ['category','morphnum','viewpoint','filename','morphline']\n",
    "    values = [category[i],morphnum[i],viewpoint[i],filename[i],morphline[i]]\n",
    "    meta.append(dict(zip(keys, values)))"
   ]
  },
  {
   "cell_type": "code",
   "execution_count": 9,
   "metadata": {
    "collapsed": false
   },
   "outputs": [],
   "source": [
    "import json\n",
    "with open('diffeo_dict.js', 'w') as outfile:\n",
    "    json.dump(meta, outfile)"
   ]
  },
  {
   "cell_type": "code",
   "execution_count": null,
   "metadata": {
    "collapsed": true
   },
   "outputs": [],
   "source": []
  }
 ],
 "metadata": {
  "kernelspec": {
   "display_name": "Python 2",
   "language": "python",
   "name": "python2"
  },
  "language_info": {
   "codemirror_mode": {
    "name": "ipython",
    "version": 2
   },
   "file_extension": ".py",
   "mimetype": "text/x-python",
   "name": "python",
   "nbconvert_exporter": "python",
   "pygments_lexer": "ipython2",
   "version": "2.7.11"
  }
 },
 "nbformat": 4,
 "nbformat_minor": 0
}
